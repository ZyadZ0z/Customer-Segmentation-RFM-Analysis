{
  "nbformat": 4,
  "nbformat_minor": 0,
  "metadata": {
    "colab": {
      "provenance": []
    },
    "kernelspec": {
      "name": "python3",
      "display_name": "Python 3"
    },
    "language_info": {
      "name": "python"
    }
  },
  "cells": [
    {
      "cell_type": "code",
      "execution_count": 2,
      "metadata": {
        "colab": {
          "base_uri": "https://localhost:8080/",
          "height": 73
        },
        "id": "IQnQsnfOjrBj",
        "outputId": "80421227-2af2-410b-8f89-99e91aced6f2"
      },
      "outputs": [
        {
          "output_type": "display_data",
          "data": {
            "text/plain": [
              "<IPython.core.display.HTML object>"
            ],
            "text/html": [
              "\n",
              "     <input type=\"file\" id=\"files-30612a40-479e-416e-bd0a-0016f5064355\" name=\"files[]\" multiple disabled\n",
              "        style=\"border:none\" />\n",
              "     <output id=\"result-30612a40-479e-416e-bd0a-0016f5064355\">\n",
              "      Upload widget is only available when the cell has been executed in the\n",
              "      current browser session. Please rerun this cell to enable.\n",
              "      </output>\n",
              "      <script>// Copyright 2017 Google LLC\n",
              "//\n",
              "// Licensed under the Apache License, Version 2.0 (the \"License\");\n",
              "// you may not use this file except in compliance with the License.\n",
              "// You may obtain a copy of the License at\n",
              "//\n",
              "//      http://www.apache.org/licenses/LICENSE-2.0\n",
              "//\n",
              "// Unless required by applicable law or agreed to in writing, software\n",
              "// distributed under the License is distributed on an \"AS IS\" BASIS,\n",
              "// WITHOUT WARRANTIES OR CONDITIONS OF ANY KIND, either express or implied.\n",
              "// See the License for the specific language governing permissions and\n",
              "// limitations under the License.\n",
              "\n",
              "/**\n",
              " * @fileoverview Helpers for google.colab Python module.\n",
              " */\n",
              "(function(scope) {\n",
              "function span(text, styleAttributes = {}) {\n",
              "  const element = document.createElement('span');\n",
              "  element.textContent = text;\n",
              "  for (const key of Object.keys(styleAttributes)) {\n",
              "    element.style[key] = styleAttributes[key];\n",
              "  }\n",
              "  return element;\n",
              "}\n",
              "\n",
              "// Max number of bytes which will be uploaded at a time.\n",
              "const MAX_PAYLOAD_SIZE = 100 * 1024;\n",
              "\n",
              "function _uploadFiles(inputId, outputId) {\n",
              "  const steps = uploadFilesStep(inputId, outputId);\n",
              "  const outputElement = document.getElementById(outputId);\n",
              "  // Cache steps on the outputElement to make it available for the next call\n",
              "  // to uploadFilesContinue from Python.\n",
              "  outputElement.steps = steps;\n",
              "\n",
              "  return _uploadFilesContinue(outputId);\n",
              "}\n",
              "\n",
              "// This is roughly an async generator (not supported in the browser yet),\n",
              "// where there are multiple asynchronous steps and the Python side is going\n",
              "// to poll for completion of each step.\n",
              "// This uses a Promise to block the python side on completion of each step,\n",
              "// then passes the result of the previous step as the input to the next step.\n",
              "function _uploadFilesContinue(outputId) {\n",
              "  const outputElement = document.getElementById(outputId);\n",
              "  const steps = outputElement.steps;\n",
              "\n",
              "  const next = steps.next(outputElement.lastPromiseValue);\n",
              "  return Promise.resolve(next.value.promise).then((value) => {\n",
              "    // Cache the last promise value to make it available to the next\n",
              "    // step of the generator.\n",
              "    outputElement.lastPromiseValue = value;\n",
              "    return next.value.response;\n",
              "  });\n",
              "}\n",
              "\n",
              "/**\n",
              " * Generator function which is called between each async step of the upload\n",
              " * process.\n",
              " * @param {string} inputId Element ID of the input file picker element.\n",
              " * @param {string} outputId Element ID of the output display.\n",
              " * @return {!Iterable<!Object>} Iterable of next steps.\n",
              " */\n",
              "function* uploadFilesStep(inputId, outputId) {\n",
              "  const inputElement = document.getElementById(inputId);\n",
              "  inputElement.disabled = false;\n",
              "\n",
              "  const outputElement = document.getElementById(outputId);\n",
              "  outputElement.innerHTML = '';\n",
              "\n",
              "  const pickedPromise = new Promise((resolve) => {\n",
              "    inputElement.addEventListener('change', (e) => {\n",
              "      resolve(e.target.files);\n",
              "    });\n",
              "  });\n",
              "\n",
              "  const cancel = document.createElement('button');\n",
              "  inputElement.parentElement.appendChild(cancel);\n",
              "  cancel.textContent = 'Cancel upload';\n",
              "  const cancelPromise = new Promise((resolve) => {\n",
              "    cancel.onclick = () => {\n",
              "      resolve(null);\n",
              "    };\n",
              "  });\n",
              "\n",
              "  // Wait for the user to pick the files.\n",
              "  const files = yield {\n",
              "    promise: Promise.race([pickedPromise, cancelPromise]),\n",
              "    response: {\n",
              "      action: 'starting',\n",
              "    }\n",
              "  };\n",
              "\n",
              "  cancel.remove();\n",
              "\n",
              "  // Disable the input element since further picks are not allowed.\n",
              "  inputElement.disabled = true;\n",
              "\n",
              "  if (!files) {\n",
              "    return {\n",
              "      response: {\n",
              "        action: 'complete',\n",
              "      }\n",
              "    };\n",
              "  }\n",
              "\n",
              "  for (const file of files) {\n",
              "    const li = document.createElement('li');\n",
              "    li.append(span(file.name, {fontWeight: 'bold'}));\n",
              "    li.append(span(\n",
              "        `(${file.type || 'n/a'}) - ${file.size} bytes, ` +\n",
              "        `last modified: ${\n",
              "            file.lastModifiedDate ? file.lastModifiedDate.toLocaleDateString() :\n",
              "                                    'n/a'} - `));\n",
              "    const percent = span('0% done');\n",
              "    li.appendChild(percent);\n",
              "\n",
              "    outputElement.appendChild(li);\n",
              "\n",
              "    const fileDataPromise = new Promise((resolve) => {\n",
              "      const reader = new FileReader();\n",
              "      reader.onload = (e) => {\n",
              "        resolve(e.target.result);\n",
              "      };\n",
              "      reader.readAsArrayBuffer(file);\n",
              "    });\n",
              "    // Wait for the data to be ready.\n",
              "    let fileData = yield {\n",
              "      promise: fileDataPromise,\n",
              "      response: {\n",
              "        action: 'continue',\n",
              "      }\n",
              "    };\n",
              "\n",
              "    // Use a chunked sending to avoid message size limits. See b/62115660.\n",
              "    let position = 0;\n",
              "    do {\n",
              "      const length = Math.min(fileData.byteLength - position, MAX_PAYLOAD_SIZE);\n",
              "      const chunk = new Uint8Array(fileData, position, length);\n",
              "      position += length;\n",
              "\n",
              "      const base64 = btoa(String.fromCharCode.apply(null, chunk));\n",
              "      yield {\n",
              "        response: {\n",
              "          action: 'append',\n",
              "          file: file.name,\n",
              "          data: base64,\n",
              "        },\n",
              "      };\n",
              "\n",
              "      let percentDone = fileData.byteLength === 0 ?\n",
              "          100 :\n",
              "          Math.round((position / fileData.byteLength) * 100);\n",
              "      percent.textContent = `${percentDone}% done`;\n",
              "\n",
              "    } while (position < fileData.byteLength);\n",
              "  }\n",
              "\n",
              "  // All done.\n",
              "  yield {\n",
              "    response: {\n",
              "      action: 'complete',\n",
              "    }\n",
              "  };\n",
              "}\n",
              "\n",
              "scope.google = scope.google || {};\n",
              "scope.google.colab = scope.google.colab || {};\n",
              "scope.google.colab._files = {\n",
              "  _uploadFiles,\n",
              "  _uploadFilesContinue,\n",
              "};\n",
              "})(self);\n",
              "</script> "
            ]
          },
          "metadata": {}
        },
        {
          "output_type": "stream",
          "name": "stdout",
          "text": [
            "Saving marketing_campaign.csv to marketing_campaign.csv\n"
          ]
        }
      ],
      "source": [
        "from google.colab import files\n",
        "uploaded = files.upload()\n"
      ]
    },
    {
      "cell_type": "code",
      "source": [
        "import pandas as pd\n"
      ],
      "metadata": {
        "id": "wgTOfSx8kD69"
      },
      "execution_count": 3,
      "outputs": []
    },
    {
      "cell_type": "code",
      "source": [
        "df = pd.read_csv('marketing_campaign.csv', sep=';')\n",
        "print(df.head())"
      ],
      "metadata": {
        "colab": {
          "base_uri": "https://localhost:8080/"
        },
        "id": "cD-ARl13kEHd",
        "outputId": "ed739269-e8e9-4f72-e69d-389162ba0fb9"
      },
      "execution_count": 4,
      "outputs": [
        {
          "output_type": "stream",
          "name": "stdout",
          "text": [
            "     ID  Year_Birth   Education Marital_Status   Income  Kidhome  Teenhome  \\\n",
            "0  5524        1957  Graduation         Single  58138.0        0         0   \n",
            "1  2174        1954  Graduation         Single  46344.0        1         1   \n",
            "2  4141        1965  Graduation       Together  71613.0        0         0   \n",
            "3  6182        1984  Graduation       Together  26646.0        1         0   \n",
            "4  5324        1981         PhD        Married  58293.0        1         0   \n",
            "\n",
            "  Dt_Customer  Recency  MntWines  ...  NumWebVisitsMonth  AcceptedCmp3  \\\n",
            "0  2012-09-04       58       635  ...                  7             0   \n",
            "1  2014-03-08       38        11  ...                  5             0   \n",
            "2  2013-08-21       26       426  ...                  4             0   \n",
            "3  2014-02-10       26        11  ...                  6             0   \n",
            "4  2014-01-19       94       173  ...                  5             0   \n",
            "\n",
            "   AcceptedCmp4  AcceptedCmp5  AcceptedCmp1  AcceptedCmp2  Complain  \\\n",
            "0             0             0             0             0         0   \n",
            "1             0             0             0             0         0   \n",
            "2             0             0             0             0         0   \n",
            "3             0             0             0             0         0   \n",
            "4             0             0             0             0         0   \n",
            "\n",
            "   Z_CostContact  Z_Revenue  Response  \n",
            "0              3         11         1  \n",
            "1              3         11         0  \n",
            "2              3         11         0  \n",
            "3              3         11         0  \n",
            "4              3         11         0  \n",
            "\n",
            "[5 rows x 29 columns]\n"
          ]
        }
      ]
    },
    {
      "cell_type": "code",
      "source": [
        "df[['Education','Dt_Customer','NumWebPurchases','Z_Revenue','AcceptedCmp2']]"
      ],
      "metadata": {
        "colab": {
          "base_uri": "https://localhost:8080/",
          "height": 423
        },
        "id": "qfWc0yIikENH",
        "outputId": "14fd9ac2-38c0-4210-ec3e-c91ad71323d4"
      },
      "execution_count": 5,
      "outputs": [
        {
          "output_type": "execute_result",
          "data": {
            "text/plain": [
              "       Education Dt_Customer  NumWebPurchases  Z_Revenue  AcceptedCmp2\n",
              "0     Graduation  2012-09-04                8         11             0\n",
              "1     Graduation  2014-03-08                1         11             0\n",
              "2     Graduation  2013-08-21                8         11             0\n",
              "3     Graduation  2014-02-10                2         11             0\n",
              "4            PhD  2014-01-19                5         11             0\n",
              "...          ...         ...              ...        ...           ...\n",
              "2235  Graduation  2013-06-13                9         11             0\n",
              "2236         PhD  2014-06-10                8         11             0\n",
              "2237  Graduation  2014-01-25                2         11             0\n",
              "2238      Master  2014-01-24                6         11             0\n",
              "2239         PhD  2012-10-15                3         11             0\n",
              "\n",
              "[2240 rows x 5 columns]"
            ],
            "text/html": [
              "\n",
              "  <div id=\"df-3d137cfd-a211-4531-893b-6656eeca97e4\" class=\"colab-df-container\">\n",
              "    <div>\n",
              "<style scoped>\n",
              "    .dataframe tbody tr th:only-of-type {\n",
              "        vertical-align: middle;\n",
              "    }\n",
              "\n",
              "    .dataframe tbody tr th {\n",
              "        vertical-align: top;\n",
              "    }\n",
              "\n",
              "    .dataframe thead th {\n",
              "        text-align: right;\n",
              "    }\n",
              "</style>\n",
              "<table border=\"1\" class=\"dataframe\">\n",
              "  <thead>\n",
              "    <tr style=\"text-align: right;\">\n",
              "      <th></th>\n",
              "      <th>Education</th>\n",
              "      <th>Dt_Customer</th>\n",
              "      <th>NumWebPurchases</th>\n",
              "      <th>Z_Revenue</th>\n",
              "      <th>AcceptedCmp2</th>\n",
              "    </tr>\n",
              "  </thead>\n",
              "  <tbody>\n",
              "    <tr>\n",
              "      <th>0</th>\n",
              "      <td>Graduation</td>\n",
              "      <td>2012-09-04</td>\n",
              "      <td>8</td>\n",
              "      <td>11</td>\n",
              "      <td>0</td>\n",
              "    </tr>\n",
              "    <tr>\n",
              "      <th>1</th>\n",
              "      <td>Graduation</td>\n",
              "      <td>2014-03-08</td>\n",
              "      <td>1</td>\n",
              "      <td>11</td>\n",
              "      <td>0</td>\n",
              "    </tr>\n",
              "    <tr>\n",
              "      <th>2</th>\n",
              "      <td>Graduation</td>\n",
              "      <td>2013-08-21</td>\n",
              "      <td>8</td>\n",
              "      <td>11</td>\n",
              "      <td>0</td>\n",
              "    </tr>\n",
              "    <tr>\n",
              "      <th>3</th>\n",
              "      <td>Graduation</td>\n",
              "      <td>2014-02-10</td>\n",
              "      <td>2</td>\n",
              "      <td>11</td>\n",
              "      <td>0</td>\n",
              "    </tr>\n",
              "    <tr>\n",
              "      <th>4</th>\n",
              "      <td>PhD</td>\n",
              "      <td>2014-01-19</td>\n",
              "      <td>5</td>\n",
              "      <td>11</td>\n",
              "      <td>0</td>\n",
              "    </tr>\n",
              "    <tr>\n",
              "      <th>...</th>\n",
              "      <td>...</td>\n",
              "      <td>...</td>\n",
              "      <td>...</td>\n",
              "      <td>...</td>\n",
              "      <td>...</td>\n",
              "    </tr>\n",
              "    <tr>\n",
              "      <th>2235</th>\n",
              "      <td>Graduation</td>\n",
              "      <td>2013-06-13</td>\n",
              "      <td>9</td>\n",
              "      <td>11</td>\n",
              "      <td>0</td>\n",
              "    </tr>\n",
              "    <tr>\n",
              "      <th>2236</th>\n",
              "      <td>PhD</td>\n",
              "      <td>2014-06-10</td>\n",
              "      <td>8</td>\n",
              "      <td>11</td>\n",
              "      <td>0</td>\n",
              "    </tr>\n",
              "    <tr>\n",
              "      <th>2237</th>\n",
              "      <td>Graduation</td>\n",
              "      <td>2014-01-25</td>\n",
              "      <td>2</td>\n",
              "      <td>11</td>\n",
              "      <td>0</td>\n",
              "    </tr>\n",
              "    <tr>\n",
              "      <th>2238</th>\n",
              "      <td>Master</td>\n",
              "      <td>2014-01-24</td>\n",
              "      <td>6</td>\n",
              "      <td>11</td>\n",
              "      <td>0</td>\n",
              "    </tr>\n",
              "    <tr>\n",
              "      <th>2239</th>\n",
              "      <td>PhD</td>\n",
              "      <td>2012-10-15</td>\n",
              "      <td>3</td>\n",
              "      <td>11</td>\n",
              "      <td>0</td>\n",
              "    </tr>\n",
              "  </tbody>\n",
              "</table>\n",
              "<p>2240 rows × 5 columns</p>\n",
              "</div>\n",
              "    <div class=\"colab-df-buttons\">\n",
              "\n",
              "  <div class=\"colab-df-container\">\n",
              "    <button class=\"colab-df-convert\" onclick=\"convertToInteractive('df-3d137cfd-a211-4531-893b-6656eeca97e4')\"\n",
              "            title=\"Convert this dataframe to an interactive table.\"\n",
              "            style=\"display:none;\">\n",
              "\n",
              "  <svg xmlns=\"http://www.w3.org/2000/svg\" height=\"24px\" viewBox=\"0 -960 960 960\">\n",
              "    <path d=\"M120-120v-720h720v720H120Zm60-500h600v-160H180v160Zm220 220h160v-160H400v160Zm0 220h160v-160H400v160ZM180-400h160v-160H180v160Zm440 0h160v-160H620v160ZM180-180h160v-160H180v160Zm440 0h160v-160H620v160Z\"/>\n",
              "  </svg>\n",
              "    </button>\n",
              "\n",
              "  <style>\n",
              "    .colab-df-container {\n",
              "      display:flex;\n",
              "      gap: 12px;\n",
              "    }\n",
              "\n",
              "    .colab-df-convert {\n",
              "      background-color: #E8F0FE;\n",
              "      border: none;\n",
              "      border-radius: 50%;\n",
              "      cursor: pointer;\n",
              "      display: none;\n",
              "      fill: #1967D2;\n",
              "      height: 32px;\n",
              "      padding: 0 0 0 0;\n",
              "      width: 32px;\n",
              "    }\n",
              "\n",
              "    .colab-df-convert:hover {\n",
              "      background-color: #E2EBFA;\n",
              "      box-shadow: 0px 1px 2px rgba(60, 64, 67, 0.3), 0px 1px 3px 1px rgba(60, 64, 67, 0.15);\n",
              "      fill: #174EA6;\n",
              "    }\n",
              "\n",
              "    .colab-df-buttons div {\n",
              "      margin-bottom: 4px;\n",
              "    }\n",
              "\n",
              "    [theme=dark] .colab-df-convert {\n",
              "      background-color: #3B4455;\n",
              "      fill: #D2E3FC;\n",
              "    }\n",
              "\n",
              "    [theme=dark] .colab-df-convert:hover {\n",
              "      background-color: #434B5C;\n",
              "      box-shadow: 0px 1px 3px 1px rgba(0, 0, 0, 0.15);\n",
              "      filter: drop-shadow(0px 1px 2px rgba(0, 0, 0, 0.3));\n",
              "      fill: #FFFFFF;\n",
              "    }\n",
              "  </style>\n",
              "\n",
              "    <script>\n",
              "      const buttonEl =\n",
              "        document.querySelector('#df-3d137cfd-a211-4531-893b-6656eeca97e4 button.colab-df-convert');\n",
              "      buttonEl.style.display =\n",
              "        google.colab.kernel.accessAllowed ? 'block' : 'none';\n",
              "\n",
              "      async function convertToInteractive(key) {\n",
              "        const element = document.querySelector('#df-3d137cfd-a211-4531-893b-6656eeca97e4');\n",
              "        const dataTable =\n",
              "          await google.colab.kernel.invokeFunction('convertToInteractive',\n",
              "                                                    [key], {});\n",
              "        if (!dataTable) return;\n",
              "\n",
              "        const docLinkHtml = 'Like what you see? Visit the ' +\n",
              "          '<a target=\"_blank\" href=https://colab.research.google.com/notebooks/data_table.ipynb>data table notebook</a>'\n",
              "          + ' to learn more about interactive tables.';\n",
              "        element.innerHTML = '';\n",
              "        dataTable['output_type'] = 'display_data';\n",
              "        await google.colab.output.renderOutput(dataTable, element);\n",
              "        const docLink = document.createElement('div');\n",
              "        docLink.innerHTML = docLinkHtml;\n",
              "        element.appendChild(docLink);\n",
              "      }\n",
              "    </script>\n",
              "  </div>\n",
              "\n",
              "\n",
              "    <div id=\"df-319ad405-ac5c-4483-82cd-b65680ab1bfd\">\n",
              "      <button class=\"colab-df-quickchart\" onclick=\"quickchart('df-319ad405-ac5c-4483-82cd-b65680ab1bfd')\"\n",
              "                title=\"Suggest charts\"\n",
              "                style=\"display:none;\">\n",
              "\n",
              "<svg xmlns=\"http://www.w3.org/2000/svg\" height=\"24px\"viewBox=\"0 0 24 24\"\n",
              "     width=\"24px\">\n",
              "    <g>\n",
              "        <path d=\"M19 3H5c-1.1 0-2 .9-2 2v14c0 1.1.9 2 2 2h14c1.1 0 2-.9 2-2V5c0-1.1-.9-2-2-2zM9 17H7v-7h2v7zm4 0h-2V7h2v10zm4 0h-2v-4h2v4z\"/>\n",
              "    </g>\n",
              "</svg>\n",
              "      </button>\n",
              "\n",
              "<style>\n",
              "  .colab-df-quickchart {\n",
              "      --bg-color: #E8F0FE;\n",
              "      --fill-color: #1967D2;\n",
              "      --hover-bg-color: #E2EBFA;\n",
              "      --hover-fill-color: #174EA6;\n",
              "      --disabled-fill-color: #AAA;\n",
              "      --disabled-bg-color: #DDD;\n",
              "  }\n",
              "\n",
              "  [theme=dark] .colab-df-quickchart {\n",
              "      --bg-color: #3B4455;\n",
              "      --fill-color: #D2E3FC;\n",
              "      --hover-bg-color: #434B5C;\n",
              "      --hover-fill-color: #FFFFFF;\n",
              "      --disabled-bg-color: #3B4455;\n",
              "      --disabled-fill-color: #666;\n",
              "  }\n",
              "\n",
              "  .colab-df-quickchart {\n",
              "    background-color: var(--bg-color);\n",
              "    border: none;\n",
              "    border-radius: 50%;\n",
              "    cursor: pointer;\n",
              "    display: none;\n",
              "    fill: var(--fill-color);\n",
              "    height: 32px;\n",
              "    padding: 0;\n",
              "    width: 32px;\n",
              "  }\n",
              "\n",
              "  .colab-df-quickchart:hover {\n",
              "    background-color: var(--hover-bg-color);\n",
              "    box-shadow: 0 1px 2px rgba(60, 64, 67, 0.3), 0 1px 3px 1px rgba(60, 64, 67, 0.15);\n",
              "    fill: var(--button-hover-fill-color);\n",
              "  }\n",
              "\n",
              "  .colab-df-quickchart-complete:disabled,\n",
              "  .colab-df-quickchart-complete:disabled:hover {\n",
              "    background-color: var(--disabled-bg-color);\n",
              "    fill: var(--disabled-fill-color);\n",
              "    box-shadow: none;\n",
              "  }\n",
              "\n",
              "  .colab-df-spinner {\n",
              "    border: 2px solid var(--fill-color);\n",
              "    border-color: transparent;\n",
              "    border-bottom-color: var(--fill-color);\n",
              "    animation:\n",
              "      spin 1s steps(1) infinite;\n",
              "  }\n",
              "\n",
              "  @keyframes spin {\n",
              "    0% {\n",
              "      border-color: transparent;\n",
              "      border-bottom-color: var(--fill-color);\n",
              "      border-left-color: var(--fill-color);\n",
              "    }\n",
              "    20% {\n",
              "      border-color: transparent;\n",
              "      border-left-color: var(--fill-color);\n",
              "      border-top-color: var(--fill-color);\n",
              "    }\n",
              "    30% {\n",
              "      border-color: transparent;\n",
              "      border-left-color: var(--fill-color);\n",
              "      border-top-color: var(--fill-color);\n",
              "      border-right-color: var(--fill-color);\n",
              "    }\n",
              "    40% {\n",
              "      border-color: transparent;\n",
              "      border-right-color: var(--fill-color);\n",
              "      border-top-color: var(--fill-color);\n",
              "    }\n",
              "    60% {\n",
              "      border-color: transparent;\n",
              "      border-right-color: var(--fill-color);\n",
              "    }\n",
              "    80% {\n",
              "      border-color: transparent;\n",
              "      border-right-color: var(--fill-color);\n",
              "      border-bottom-color: var(--fill-color);\n",
              "    }\n",
              "    90% {\n",
              "      border-color: transparent;\n",
              "      border-bottom-color: var(--fill-color);\n",
              "    }\n",
              "  }\n",
              "</style>\n",
              "\n",
              "      <script>\n",
              "        async function quickchart(key) {\n",
              "          const quickchartButtonEl =\n",
              "            document.querySelector('#' + key + ' button');\n",
              "          quickchartButtonEl.disabled = true;  // To prevent multiple clicks.\n",
              "          quickchartButtonEl.classList.add('colab-df-spinner');\n",
              "          try {\n",
              "            const charts = await google.colab.kernel.invokeFunction(\n",
              "                'suggestCharts', [key], {});\n",
              "          } catch (error) {\n",
              "            console.error('Error during call to suggestCharts:', error);\n",
              "          }\n",
              "          quickchartButtonEl.classList.remove('colab-df-spinner');\n",
              "          quickchartButtonEl.classList.add('colab-df-quickchart-complete');\n",
              "        }\n",
              "        (() => {\n",
              "          let quickchartButtonEl =\n",
              "            document.querySelector('#df-319ad405-ac5c-4483-82cd-b65680ab1bfd button');\n",
              "          quickchartButtonEl.style.display =\n",
              "            google.colab.kernel.accessAllowed ? 'block' : 'none';\n",
              "        })();\n",
              "      </script>\n",
              "    </div>\n",
              "\n",
              "    </div>\n",
              "  </div>\n"
            ],
            "application/vnd.google.colaboratory.intrinsic+json": {
              "type": "dataframe",
              "summary": "{\n  \"name\": \"df[['Education','Dt_Customer','NumWebPurchases','Z_Revenue','AcceptedCmp2']]\",\n  \"rows\": 2240,\n  \"fields\": [\n    {\n      \"column\": \"Education\",\n      \"properties\": {\n        \"dtype\": \"category\",\n        \"num_unique_values\": 5,\n        \"samples\": [\n          \"PhD\",\n          \"2n Cycle\",\n          \"Master\"\n        ],\n        \"semantic_type\": \"\",\n        \"description\": \"\"\n      }\n    },\n    {\n      \"column\": \"Dt_Customer\",\n      \"properties\": {\n        \"dtype\": \"object\",\n        \"num_unique_values\": 663,\n        \"samples\": [\n          \"2013-04-23\",\n          \"2012-12-02\",\n          \"2014-02-18\"\n        ],\n        \"semantic_type\": \"\",\n        \"description\": \"\"\n      }\n    },\n    {\n      \"column\": \"NumWebPurchases\",\n      \"properties\": {\n        \"dtype\": \"number\",\n        \"std\": 2,\n        \"min\": 0,\n        \"max\": 27,\n        \"num_unique_values\": 15,\n        \"samples\": [\n          0,\n          10,\n          8\n        ],\n        \"semantic_type\": \"\",\n        \"description\": \"\"\n      }\n    },\n    {\n      \"column\": \"Z_Revenue\",\n      \"properties\": {\n        \"dtype\": \"number\",\n        \"std\": 0,\n        \"min\": 11,\n        \"max\": 11,\n        \"num_unique_values\": 1,\n        \"samples\": [\n          11\n        ],\n        \"semantic_type\": \"\",\n        \"description\": \"\"\n      }\n    },\n    {\n      \"column\": \"AcceptedCmp2\",\n      \"properties\": {\n        \"dtype\": \"number\",\n        \"std\": 0,\n        \"min\": 0,\n        \"max\": 1,\n        \"num_unique_values\": 2,\n        \"samples\": [\n          1\n        ],\n        \"semantic_type\": \"\",\n        \"description\": \"\"\n      }\n    }\n  ]\n}"
            }
          },
          "metadata": {},
          "execution_count": 5
        }
      ]
    },
    {
      "cell_type": "code",
      "source": [
        "print(df.loc[15])"
      ],
      "metadata": {
        "colab": {
          "base_uri": "https://localhost:8080/"
        },
        "id": "Eh5r8jwCkEQM",
        "outputId": "5f946a42-8863-46f5-e33b-9ba92a21e76e"
      },
      "execution_count": 6,
      "outputs": [
        {
          "output_type": "stream",
          "name": "stdout",
          "text": [
            "ID                           2114\n",
            "Year_Birth                   1946\n",
            "Education                     PhD\n",
            "Marital_Status             Single\n",
            "Income                    82800.0\n",
            "Kidhome                         0\n",
            "Teenhome                        0\n",
            "Dt_Customer            2012-11-24\n",
            "Recency                        23\n",
            "MntWines                     1006\n",
            "MntFruits                      22\n",
            "MntMeatProducts               115\n",
            "MntFishProducts                59\n",
            "MntSweetProducts               68\n",
            "MntGoldProds                   45\n",
            "NumDealsPurchases               1\n",
            "NumWebPurchases                 7\n",
            "NumCatalogPurchases             6\n",
            "NumStorePurchases              12\n",
            "NumWebVisitsMonth               3\n",
            "AcceptedCmp3                    0\n",
            "AcceptedCmp4                    0\n",
            "AcceptedCmp5                    1\n",
            "AcceptedCmp1                    1\n",
            "AcceptedCmp2                    0\n",
            "Complain                        0\n",
            "Z_CostContact                   3\n",
            "Z_Revenue                      11\n",
            "Response                        1\n",
            "Name: 15, dtype: object\n"
          ]
        }
      ]
    },
    {
      "cell_type": "code",
      "source": [
        "df.sort_values('Year_Birth', ascending=False)"
      ],
      "metadata": {
        "colab": {
          "base_uri": "https://localhost:8080/",
          "height": 443
        },
        "id": "qCHp2NITkETm",
        "outputId": "0eec6fc0-228d-4c0d-f2ca-a46e4de540d8"
      },
      "execution_count": 7,
      "outputs": [
        {
          "output_type": "execute_result",
          "data": {
            "text/plain": [
              "         ID  Year_Birth   Education Marital_Status   Income  Kidhome  \\\n",
              "1170    193        1996       Basic        Married  14421.0        0   \n",
              "46     9909        1996    2n Cycle        Married   7500.0        0   \n",
              "747   10548        1995  Graduation         Single  71163.0        0   \n",
              "1850   4427        1995    2n Cycle         Single  83257.0        0   \n",
              "696    8315        1995  Graduation         Single  34824.0        0   \n",
              "...     ...         ...         ...            ...      ...      ...   \n",
              "424    6932        1941         PhD        Married  93027.0        0   \n",
              "1950   6663        1940         PhD         Single  51141.0        0   \n",
              "192    7829        1900    2n Cycle       Divorced  36640.0        1   \n",
              "339    1150        1899         PhD       Together  83532.0        0   \n",
              "239   11004        1893    2n Cycle         Single  60182.0        0   \n",
              "\n",
              "      Teenhome Dt_Customer  Recency  MntWines  ...  NumWebVisitsMonth  \\\n",
              "1170         0  2014-02-17       81         0  ...                  5   \n",
              "46           0  2012-11-09       24         3  ...                  9   \n",
              "747          0  2014-03-09       30       283  ...                  1   \n",
              "1850         0  2012-09-18       56       536  ...                  6   \n",
              "696          0  2014-03-26       65         4  ...                  6   \n",
              "...        ...         ...      ...       ...  ...                ...   \n",
              "424          0  2013-04-13       77      1285  ...                  2   \n",
              "1950         0  2013-07-08       96       144  ...                  5   \n",
              "192          0  2013-09-26       99        15  ...                  5   \n",
              "339          0  2013-09-26       36       755  ...                  1   \n",
              "239          1  2014-05-17       23         8  ...                  4   \n",
              "\n",
              "      AcceptedCmp3  AcceptedCmp4  AcceptedCmp5  AcceptedCmp1  AcceptedCmp2  \\\n",
              "1170             1             0             0             0             0   \n",
              "46               0             0             0             0             0   \n",
              "747              0             0             0             0             0   \n",
              "1850             1             0             1             0             0   \n",
              "696              0             0             0             0             0   \n",
              "...            ...           ...           ...           ...           ...   \n",
              "424              0             0             1             0             0   \n",
              "1950             0             0             0             0             0   \n",
              "192              0             0             0             0             0   \n",
              "339              0             0             1             0             0   \n",
              "239              0             0             0             0             0   \n",
              "\n",
              "      Complain  Z_CostContact  Z_Revenue  Response  \n",
              "1170         0              3         11         0  \n",
              "46           0              3         11         1  \n",
              "747          0              3         11         0  \n",
              "1850         1              3         11         1  \n",
              "696          0              3         11         0  \n",
              "...        ...            ...        ...       ...  \n",
              "424          0              3         11         0  \n",
              "1950         0              3         11         0  \n",
              "192          1              3         11         0  \n",
              "339          0              3         11         0  \n",
              "239          0              3         11         0  \n",
              "\n",
              "[2240 rows x 29 columns]"
            ],
            "text/html": [
              "\n",
              "  <div id=\"df-51f73e17-c899-4c12-8048-d968f3ebdf73\" class=\"colab-df-container\">\n",
              "    <div>\n",
              "<style scoped>\n",
              "    .dataframe tbody tr th:only-of-type {\n",
              "        vertical-align: middle;\n",
              "    }\n",
              "\n",
              "    .dataframe tbody tr th {\n",
              "        vertical-align: top;\n",
              "    }\n",
              "\n",
              "    .dataframe thead th {\n",
              "        text-align: right;\n",
              "    }\n",
              "</style>\n",
              "<table border=\"1\" class=\"dataframe\">\n",
              "  <thead>\n",
              "    <tr style=\"text-align: right;\">\n",
              "      <th></th>\n",
              "      <th>ID</th>\n",
              "      <th>Year_Birth</th>\n",
              "      <th>Education</th>\n",
              "      <th>Marital_Status</th>\n",
              "      <th>Income</th>\n",
              "      <th>Kidhome</th>\n",
              "      <th>Teenhome</th>\n",
              "      <th>Dt_Customer</th>\n",
              "      <th>Recency</th>\n",
              "      <th>MntWines</th>\n",
              "      <th>...</th>\n",
              "      <th>NumWebVisitsMonth</th>\n",
              "      <th>AcceptedCmp3</th>\n",
              "      <th>AcceptedCmp4</th>\n",
              "      <th>AcceptedCmp5</th>\n",
              "      <th>AcceptedCmp1</th>\n",
              "      <th>AcceptedCmp2</th>\n",
              "      <th>Complain</th>\n",
              "      <th>Z_CostContact</th>\n",
              "      <th>Z_Revenue</th>\n",
              "      <th>Response</th>\n",
              "    </tr>\n",
              "  </thead>\n",
              "  <tbody>\n",
              "    <tr>\n",
              "      <th>1170</th>\n",
              "      <td>193</td>\n",
              "      <td>1996</td>\n",
              "      <td>Basic</td>\n",
              "      <td>Married</td>\n",
              "      <td>14421.0</td>\n",
              "      <td>0</td>\n",
              "      <td>0</td>\n",
              "      <td>2014-02-17</td>\n",
              "      <td>81</td>\n",
              "      <td>0</td>\n",
              "      <td>...</td>\n",
              "      <td>5</td>\n",
              "      <td>1</td>\n",
              "      <td>0</td>\n",
              "      <td>0</td>\n",
              "      <td>0</td>\n",
              "      <td>0</td>\n",
              "      <td>0</td>\n",
              "      <td>3</td>\n",
              "      <td>11</td>\n",
              "      <td>0</td>\n",
              "    </tr>\n",
              "    <tr>\n",
              "      <th>46</th>\n",
              "      <td>9909</td>\n",
              "      <td>1996</td>\n",
              "      <td>2n Cycle</td>\n",
              "      <td>Married</td>\n",
              "      <td>7500.0</td>\n",
              "      <td>0</td>\n",
              "      <td>0</td>\n",
              "      <td>2012-11-09</td>\n",
              "      <td>24</td>\n",
              "      <td>3</td>\n",
              "      <td>...</td>\n",
              "      <td>9</td>\n",
              "      <td>0</td>\n",
              "      <td>0</td>\n",
              "      <td>0</td>\n",
              "      <td>0</td>\n",
              "      <td>0</td>\n",
              "      <td>0</td>\n",
              "      <td>3</td>\n",
              "      <td>11</td>\n",
              "      <td>1</td>\n",
              "    </tr>\n",
              "    <tr>\n",
              "      <th>747</th>\n",
              "      <td>10548</td>\n",
              "      <td>1995</td>\n",
              "      <td>Graduation</td>\n",
              "      <td>Single</td>\n",
              "      <td>71163.0</td>\n",
              "      <td>0</td>\n",
              "      <td>0</td>\n",
              "      <td>2014-03-09</td>\n",
              "      <td>30</td>\n",
              "      <td>283</td>\n",
              "      <td>...</td>\n",
              "      <td>1</td>\n",
              "      <td>0</td>\n",
              "      <td>0</td>\n",
              "      <td>0</td>\n",
              "      <td>0</td>\n",
              "      <td>0</td>\n",
              "      <td>0</td>\n",
              "      <td>3</td>\n",
              "      <td>11</td>\n",
              "      <td>0</td>\n",
              "    </tr>\n",
              "    <tr>\n",
              "      <th>1850</th>\n",
              "      <td>4427</td>\n",
              "      <td>1995</td>\n",
              "      <td>2n Cycle</td>\n",
              "      <td>Single</td>\n",
              "      <td>83257.0</td>\n",
              "      <td>0</td>\n",
              "      <td>0</td>\n",
              "      <td>2012-09-18</td>\n",
              "      <td>56</td>\n",
              "      <td>536</td>\n",
              "      <td>...</td>\n",
              "      <td>6</td>\n",
              "      <td>1</td>\n",
              "      <td>0</td>\n",
              "      <td>1</td>\n",
              "      <td>0</td>\n",
              "      <td>0</td>\n",
              "      <td>1</td>\n",
              "      <td>3</td>\n",
              "      <td>11</td>\n",
              "      <td>1</td>\n",
              "    </tr>\n",
              "    <tr>\n",
              "      <th>696</th>\n",
              "      <td>8315</td>\n",
              "      <td>1995</td>\n",
              "      <td>Graduation</td>\n",
              "      <td>Single</td>\n",
              "      <td>34824.0</td>\n",
              "      <td>0</td>\n",
              "      <td>0</td>\n",
              "      <td>2014-03-26</td>\n",
              "      <td>65</td>\n",
              "      <td>4</td>\n",
              "      <td>...</td>\n",
              "      <td>6</td>\n",
              "      <td>0</td>\n",
              "      <td>0</td>\n",
              "      <td>0</td>\n",
              "      <td>0</td>\n",
              "      <td>0</td>\n",
              "      <td>0</td>\n",
              "      <td>3</td>\n",
              "      <td>11</td>\n",
              "      <td>0</td>\n",
              "    </tr>\n",
              "    <tr>\n",
              "      <th>...</th>\n",
              "      <td>...</td>\n",
              "      <td>...</td>\n",
              "      <td>...</td>\n",
              "      <td>...</td>\n",
              "      <td>...</td>\n",
              "      <td>...</td>\n",
              "      <td>...</td>\n",
              "      <td>...</td>\n",
              "      <td>...</td>\n",
              "      <td>...</td>\n",
              "      <td>...</td>\n",
              "      <td>...</td>\n",
              "      <td>...</td>\n",
              "      <td>...</td>\n",
              "      <td>...</td>\n",
              "      <td>...</td>\n",
              "      <td>...</td>\n",
              "      <td>...</td>\n",
              "      <td>...</td>\n",
              "      <td>...</td>\n",
              "      <td>...</td>\n",
              "    </tr>\n",
              "    <tr>\n",
              "      <th>424</th>\n",
              "      <td>6932</td>\n",
              "      <td>1941</td>\n",
              "      <td>PhD</td>\n",
              "      <td>Married</td>\n",
              "      <td>93027.0</td>\n",
              "      <td>0</td>\n",
              "      <td>0</td>\n",
              "      <td>2013-04-13</td>\n",
              "      <td>77</td>\n",
              "      <td>1285</td>\n",
              "      <td>...</td>\n",
              "      <td>2</td>\n",
              "      <td>0</td>\n",
              "      <td>0</td>\n",
              "      <td>1</td>\n",
              "      <td>0</td>\n",
              "      <td>0</td>\n",
              "      <td>0</td>\n",
              "      <td>3</td>\n",
              "      <td>11</td>\n",
              "      <td>0</td>\n",
              "    </tr>\n",
              "    <tr>\n",
              "      <th>1950</th>\n",
              "      <td>6663</td>\n",
              "      <td>1940</td>\n",
              "      <td>PhD</td>\n",
              "      <td>Single</td>\n",
              "      <td>51141.0</td>\n",
              "      <td>0</td>\n",
              "      <td>0</td>\n",
              "      <td>2013-07-08</td>\n",
              "      <td>96</td>\n",
              "      <td>144</td>\n",
              "      <td>...</td>\n",
              "      <td>5</td>\n",
              "      <td>0</td>\n",
              "      <td>0</td>\n",
              "      <td>0</td>\n",
              "      <td>0</td>\n",
              "      <td>0</td>\n",
              "      <td>0</td>\n",
              "      <td>3</td>\n",
              "      <td>11</td>\n",
              "      <td>0</td>\n",
              "    </tr>\n",
              "    <tr>\n",
              "      <th>192</th>\n",
              "      <td>7829</td>\n",
              "      <td>1900</td>\n",
              "      <td>2n Cycle</td>\n",
              "      <td>Divorced</td>\n",
              "      <td>36640.0</td>\n",
              "      <td>1</td>\n",
              "      <td>0</td>\n",
              "      <td>2013-09-26</td>\n",
              "      <td>99</td>\n",
              "      <td>15</td>\n",
              "      <td>...</td>\n",
              "      <td>5</td>\n",
              "      <td>0</td>\n",
              "      <td>0</td>\n",
              "      <td>0</td>\n",
              "      <td>0</td>\n",
              "      <td>0</td>\n",
              "      <td>1</td>\n",
              "      <td>3</td>\n",
              "      <td>11</td>\n",
              "      <td>0</td>\n",
              "    </tr>\n",
              "    <tr>\n",
              "      <th>339</th>\n",
              "      <td>1150</td>\n",
              "      <td>1899</td>\n",
              "      <td>PhD</td>\n",
              "      <td>Together</td>\n",
              "      <td>83532.0</td>\n",
              "      <td>0</td>\n",
              "      <td>0</td>\n",
              "      <td>2013-09-26</td>\n",
              "      <td>36</td>\n",
              "      <td>755</td>\n",
              "      <td>...</td>\n",
              "      <td>1</td>\n",
              "      <td>0</td>\n",
              "      <td>0</td>\n",
              "      <td>1</td>\n",
              "      <td>0</td>\n",
              "      <td>0</td>\n",
              "      <td>0</td>\n",
              "      <td>3</td>\n",
              "      <td>11</td>\n",
              "      <td>0</td>\n",
              "    </tr>\n",
              "    <tr>\n",
              "      <th>239</th>\n",
              "      <td>11004</td>\n",
              "      <td>1893</td>\n",
              "      <td>2n Cycle</td>\n",
              "      <td>Single</td>\n",
              "      <td>60182.0</td>\n",
              "      <td>0</td>\n",
              "      <td>1</td>\n",
              "      <td>2014-05-17</td>\n",
              "      <td>23</td>\n",
              "      <td>8</td>\n",
              "      <td>...</td>\n",
              "      <td>4</td>\n",
              "      <td>0</td>\n",
              "      <td>0</td>\n",
              "      <td>0</td>\n",
              "      <td>0</td>\n",
              "      <td>0</td>\n",
              "      <td>0</td>\n",
              "      <td>3</td>\n",
              "      <td>11</td>\n",
              "      <td>0</td>\n",
              "    </tr>\n",
              "  </tbody>\n",
              "</table>\n",
              "<p>2240 rows × 29 columns</p>\n",
              "</div>\n",
              "    <div class=\"colab-df-buttons\">\n",
              "\n",
              "  <div class=\"colab-df-container\">\n",
              "    <button class=\"colab-df-convert\" onclick=\"convertToInteractive('df-51f73e17-c899-4c12-8048-d968f3ebdf73')\"\n",
              "            title=\"Convert this dataframe to an interactive table.\"\n",
              "            style=\"display:none;\">\n",
              "\n",
              "  <svg xmlns=\"http://www.w3.org/2000/svg\" height=\"24px\" viewBox=\"0 -960 960 960\">\n",
              "    <path d=\"M120-120v-720h720v720H120Zm60-500h600v-160H180v160Zm220 220h160v-160H400v160Zm0 220h160v-160H400v160ZM180-400h160v-160H180v160Zm440 0h160v-160H620v160ZM180-180h160v-160H180v160Zm440 0h160v-160H620v160Z\"/>\n",
              "  </svg>\n",
              "    </button>\n",
              "\n",
              "  <style>\n",
              "    .colab-df-container {\n",
              "      display:flex;\n",
              "      gap: 12px;\n",
              "    }\n",
              "\n",
              "    .colab-df-convert {\n",
              "      background-color: #E8F0FE;\n",
              "      border: none;\n",
              "      border-radius: 50%;\n",
              "      cursor: pointer;\n",
              "      display: none;\n",
              "      fill: #1967D2;\n",
              "      height: 32px;\n",
              "      padding: 0 0 0 0;\n",
              "      width: 32px;\n",
              "    }\n",
              "\n",
              "    .colab-df-convert:hover {\n",
              "      background-color: #E2EBFA;\n",
              "      box-shadow: 0px 1px 2px rgba(60, 64, 67, 0.3), 0px 1px 3px 1px rgba(60, 64, 67, 0.15);\n",
              "      fill: #174EA6;\n",
              "    }\n",
              "\n",
              "    .colab-df-buttons div {\n",
              "      margin-bottom: 4px;\n",
              "    }\n",
              "\n",
              "    [theme=dark] .colab-df-convert {\n",
              "      background-color: #3B4455;\n",
              "      fill: #D2E3FC;\n",
              "    }\n",
              "\n",
              "    [theme=dark] .colab-df-convert:hover {\n",
              "      background-color: #434B5C;\n",
              "      box-shadow: 0px 1px 3px 1px rgba(0, 0, 0, 0.15);\n",
              "      filter: drop-shadow(0px 1px 2px rgba(0, 0, 0, 0.3));\n",
              "      fill: #FFFFFF;\n",
              "    }\n",
              "  </style>\n",
              "\n",
              "    <script>\n",
              "      const buttonEl =\n",
              "        document.querySelector('#df-51f73e17-c899-4c12-8048-d968f3ebdf73 button.colab-df-convert');\n",
              "      buttonEl.style.display =\n",
              "        google.colab.kernel.accessAllowed ? 'block' : 'none';\n",
              "\n",
              "      async function convertToInteractive(key) {\n",
              "        const element = document.querySelector('#df-51f73e17-c899-4c12-8048-d968f3ebdf73');\n",
              "        const dataTable =\n",
              "          await google.colab.kernel.invokeFunction('convertToInteractive',\n",
              "                                                    [key], {});\n",
              "        if (!dataTable) return;\n",
              "\n",
              "        const docLinkHtml = 'Like what you see? Visit the ' +\n",
              "          '<a target=\"_blank\" href=https://colab.research.google.com/notebooks/data_table.ipynb>data table notebook</a>'\n",
              "          + ' to learn more about interactive tables.';\n",
              "        element.innerHTML = '';\n",
              "        dataTable['output_type'] = 'display_data';\n",
              "        await google.colab.output.renderOutput(dataTable, element);\n",
              "        const docLink = document.createElement('div');\n",
              "        docLink.innerHTML = docLinkHtml;\n",
              "        element.appendChild(docLink);\n",
              "      }\n",
              "    </script>\n",
              "  </div>\n",
              "\n",
              "\n",
              "    <div id=\"df-6de4d9a5-ecc3-40ce-8dbc-a330173165a2\">\n",
              "      <button class=\"colab-df-quickchart\" onclick=\"quickchart('df-6de4d9a5-ecc3-40ce-8dbc-a330173165a2')\"\n",
              "                title=\"Suggest charts\"\n",
              "                style=\"display:none;\">\n",
              "\n",
              "<svg xmlns=\"http://www.w3.org/2000/svg\" height=\"24px\"viewBox=\"0 0 24 24\"\n",
              "     width=\"24px\">\n",
              "    <g>\n",
              "        <path d=\"M19 3H5c-1.1 0-2 .9-2 2v14c0 1.1.9 2 2 2h14c1.1 0 2-.9 2-2V5c0-1.1-.9-2-2-2zM9 17H7v-7h2v7zm4 0h-2V7h2v10zm4 0h-2v-4h2v4z\"/>\n",
              "    </g>\n",
              "</svg>\n",
              "      </button>\n",
              "\n",
              "<style>\n",
              "  .colab-df-quickchart {\n",
              "      --bg-color: #E8F0FE;\n",
              "      --fill-color: #1967D2;\n",
              "      --hover-bg-color: #E2EBFA;\n",
              "      --hover-fill-color: #174EA6;\n",
              "      --disabled-fill-color: #AAA;\n",
              "      --disabled-bg-color: #DDD;\n",
              "  }\n",
              "\n",
              "  [theme=dark] .colab-df-quickchart {\n",
              "      --bg-color: #3B4455;\n",
              "      --fill-color: #D2E3FC;\n",
              "      --hover-bg-color: #434B5C;\n",
              "      --hover-fill-color: #FFFFFF;\n",
              "      --disabled-bg-color: #3B4455;\n",
              "      --disabled-fill-color: #666;\n",
              "  }\n",
              "\n",
              "  .colab-df-quickchart {\n",
              "    background-color: var(--bg-color);\n",
              "    border: none;\n",
              "    border-radius: 50%;\n",
              "    cursor: pointer;\n",
              "    display: none;\n",
              "    fill: var(--fill-color);\n",
              "    height: 32px;\n",
              "    padding: 0;\n",
              "    width: 32px;\n",
              "  }\n",
              "\n",
              "  .colab-df-quickchart:hover {\n",
              "    background-color: var(--hover-bg-color);\n",
              "    box-shadow: 0 1px 2px rgba(60, 64, 67, 0.3), 0 1px 3px 1px rgba(60, 64, 67, 0.15);\n",
              "    fill: var(--button-hover-fill-color);\n",
              "  }\n",
              "\n",
              "  .colab-df-quickchart-complete:disabled,\n",
              "  .colab-df-quickchart-complete:disabled:hover {\n",
              "    background-color: var(--disabled-bg-color);\n",
              "    fill: var(--disabled-fill-color);\n",
              "    box-shadow: none;\n",
              "  }\n",
              "\n",
              "  .colab-df-spinner {\n",
              "    border: 2px solid var(--fill-color);\n",
              "    border-color: transparent;\n",
              "    border-bottom-color: var(--fill-color);\n",
              "    animation:\n",
              "      spin 1s steps(1) infinite;\n",
              "  }\n",
              "\n",
              "  @keyframes spin {\n",
              "    0% {\n",
              "      border-color: transparent;\n",
              "      border-bottom-color: var(--fill-color);\n",
              "      border-left-color: var(--fill-color);\n",
              "    }\n",
              "    20% {\n",
              "      border-color: transparent;\n",
              "      border-left-color: var(--fill-color);\n",
              "      border-top-color: var(--fill-color);\n",
              "    }\n",
              "    30% {\n",
              "      border-color: transparent;\n",
              "      border-left-color: var(--fill-color);\n",
              "      border-top-color: var(--fill-color);\n",
              "      border-right-color: var(--fill-color);\n",
              "    }\n",
              "    40% {\n",
              "      border-color: transparent;\n",
              "      border-right-color: var(--fill-color);\n",
              "      border-top-color: var(--fill-color);\n",
              "    }\n",
              "    60% {\n",
              "      border-color: transparent;\n",
              "      border-right-color: var(--fill-color);\n",
              "    }\n",
              "    80% {\n",
              "      border-color: transparent;\n",
              "      border-right-color: var(--fill-color);\n",
              "      border-bottom-color: var(--fill-color);\n",
              "    }\n",
              "    90% {\n",
              "      border-color: transparent;\n",
              "      border-bottom-color: var(--fill-color);\n",
              "    }\n",
              "  }\n",
              "</style>\n",
              "\n",
              "      <script>\n",
              "        async function quickchart(key) {\n",
              "          const quickchartButtonEl =\n",
              "            document.querySelector('#' + key + ' button');\n",
              "          quickchartButtonEl.disabled = true;  // To prevent multiple clicks.\n",
              "          quickchartButtonEl.classList.add('colab-df-spinner');\n",
              "          try {\n",
              "            const charts = await google.colab.kernel.invokeFunction(\n",
              "                'suggestCharts', [key], {});\n",
              "          } catch (error) {\n",
              "            console.error('Error during call to suggestCharts:', error);\n",
              "          }\n",
              "          quickchartButtonEl.classList.remove('colab-df-spinner');\n",
              "          quickchartButtonEl.classList.add('colab-df-quickchart-complete');\n",
              "        }\n",
              "        (() => {\n",
              "          let quickchartButtonEl =\n",
              "            document.querySelector('#df-6de4d9a5-ecc3-40ce-8dbc-a330173165a2 button');\n",
              "          quickchartButtonEl.style.display =\n",
              "            google.colab.kernel.accessAllowed ? 'block' : 'none';\n",
              "        })();\n",
              "      </script>\n",
              "    </div>\n",
              "\n",
              "    </div>\n",
              "  </div>\n"
            ],
            "application/vnd.google.colaboratory.intrinsic+json": {
              "type": "dataframe"
            }
          },
          "metadata": {},
          "execution_count": 7
        }
      ]
    },
    {
      "cell_type": "markdown",
      "source": [
        "#Data Cleaning & Preparation\n"
      ],
      "metadata": {
        "id": "xiiQYN-aS0bX"
      }
    },
    {
      "cell_type": "code",
      "source": [
        "df.duplicated().sum()"
      ],
      "metadata": {
        "colab": {
          "base_uri": "https://localhost:8080/"
        },
        "id": "VP0K0h6RogD7",
        "outputId": "ac9d5708-fa23-4dc2-a447-1d160052fd85"
      },
      "execution_count": 8,
      "outputs": [
        {
          "output_type": "execute_result",
          "data": {
            "text/plain": [
              "np.int64(0)"
            ]
          },
          "metadata": {},
          "execution_count": 8
        }
      ]
    },
    {
      "cell_type": "code",
      "source": [
        "print(df.shape)"
      ],
      "metadata": {
        "colab": {
          "base_uri": "https://localhost:8080/"
        },
        "id": "aORtMqdrogHG",
        "outputId": "4af04827-118b-4d8e-e80b-63bcd6f62871"
      },
      "execution_count": 9,
      "outputs": [
        {
          "output_type": "stream",
          "name": "stdout",
          "text": [
            "(2240, 29)\n"
          ]
        }
      ]
    },
    {
      "cell_type": "code",
      "source": [
        "print(df.columns)"
      ],
      "metadata": {
        "colab": {
          "base_uri": "https://localhost:8080/"
        },
        "id": "M6b-DrMGogJ0",
        "outputId": "02e764a0-cf4f-4489-8c46-0a68694a9866"
      },
      "execution_count": 10,
      "outputs": [
        {
          "output_type": "stream",
          "name": "stdout",
          "text": [
            "Index(['ID', 'Year_Birth', 'Education', 'Marital_Status', 'Income', 'Kidhome',\n",
            "       'Teenhome', 'Dt_Customer', 'Recency', 'MntWines', 'MntFruits',\n",
            "       'MntMeatProducts', 'MntFishProducts', 'MntSweetProducts',\n",
            "       'MntGoldProds', 'NumDealsPurchases', 'NumWebPurchases',\n",
            "       'NumCatalogPurchases', 'NumStorePurchases', 'NumWebVisitsMonth',\n",
            "       'AcceptedCmp3', 'AcceptedCmp4', 'AcceptedCmp5', 'AcceptedCmp1',\n",
            "       'AcceptedCmp2', 'Complain', 'Z_CostContact', 'Z_Revenue', 'Response'],\n",
            "      dtype='object')\n"
          ]
        }
      ]
    },
    {
      "cell_type": "code",
      "source": [
        "df['Dt_Customer'] = pd.to_datetime(df['Dt_Customer'])"
      ],
      "metadata": {
        "id": "I0huSjw7ogMt"
      },
      "execution_count": 11,
      "outputs": []
    },
    {
      "cell_type": "code",
      "source": [
        "from datetime import datetime"
      ],
      "metadata": {
        "id": "JWqBIBawogPX"
      },
      "execution_count": 12,
      "outputs": []
    },
    {
      "cell_type": "code",
      "source": [
        "current_year= datetime.now().year\n",
        "\n",
        "df['Customer_Age']= current_year - df['Year_Birth']"
      ],
      "metadata": {
        "id": "JpJaiBe9ogRw"
      },
      "execution_count": 13,
      "outputs": []
    },
    {
      "cell_type": "markdown",
      "source": [
        "Removing Outliers\n"
      ],
      "metadata": {
        "id": "4gAkxyVSt0Df"
      }
    },
    {
      "cell_type": "code",
      "source": [
        "df = df[(df['Customer_Age'] >= 18) & (df['Customer_Age'] <= 100)]"
      ],
      "metadata": {
        "id": "vmLMNSBhogUh"
      },
      "execution_count": 14,
      "outputs": []
    },
    {
      "cell_type": "code",
      "source": [
        "numeric_cols = df.select_dtypes(include='number').columns\n",
        "print(df[numeric_cols].describe())\n"
      ],
      "metadata": {
        "colab": {
          "base_uri": "https://localhost:8080/"
        },
        "id": "R92EUQoeogXo",
        "outputId": "361603cf-67b5-41aa-a7ef-6b1343ae7b5e"
      },
      "execution_count": 15,
      "outputs": [
        {
          "output_type": "stream",
          "name": "stdout",
          "text": [
            "                 ID   Year_Birth         Income      Kidhome     Teenhome  \\\n",
            "count   2237.000000  2237.000000    2213.000000  2237.000000  2237.000000   \n",
            "mean    5590.726419  1968.901654   52236.581563     0.444345     0.506482   \n",
            "std     3245.118591    11.701917   25178.603047     0.538467     0.544593   \n",
            "min        0.000000  1940.000000    1730.000000     0.000000     0.000000   \n",
            "25%     2829.000000  1959.000000   35246.000000     0.000000     0.000000   \n",
            "50%     5455.000000  1970.000000   51373.000000     0.000000     0.000000   \n",
            "75%     8427.000000  1977.000000   68487.000000     1.000000     1.000000   \n",
            "max    11191.000000  1996.000000  666666.000000     2.000000     2.000000   \n",
            "\n",
            "           Recency     MntWines    MntFruits  MntMeatProducts  \\\n",
            "count  2237.000000  2237.000000  2237.000000      2237.000000   \n",
            "mean     49.104604   303.995530    26.270451       166.916853   \n",
            "std      28.956073   336.574382    39.715972       225.661158   \n",
            "min       0.000000     0.000000     0.000000         0.000000   \n",
            "25%      24.000000    24.000000     1.000000        16.000000   \n",
            "50%      49.000000   174.000000     8.000000        67.000000   \n",
            "75%      74.000000   504.000000    33.000000       232.000000   \n",
            "max      99.000000  1493.000000   199.000000      1725.000000   \n",
            "\n",
            "       MntFishProducts  ...  AcceptedCmp3  AcceptedCmp4  AcceptedCmp5  \\\n",
            "count      2237.000000  ...   2237.000000   2237.000000   2237.000000   \n",
            "mean         37.523022  ...      0.072865      0.074654      0.072418   \n",
            "std          54.639909  ...      0.259974      0.262890      0.259237   \n",
            "min           0.000000  ...      0.000000      0.000000      0.000000   \n",
            "25%           3.000000  ...      0.000000      0.000000      0.000000   \n",
            "50%          12.000000  ...      0.000000      0.000000      0.000000   \n",
            "75%          50.000000  ...      0.000000      0.000000      0.000000   \n",
            "max         259.000000  ...      1.000000      1.000000      1.000000   \n",
            "\n",
            "       AcceptedCmp1  AcceptedCmp2     Complain  Z_CostContact  Z_Revenue  \\\n",
            "count   2237.000000   2237.000000  2237.000000         2237.0     2237.0   \n",
            "mean       0.064372      0.013411     0.008941            3.0       11.0   \n",
            "std        0.245469      0.115052     0.094152            0.0        0.0   \n",
            "min        0.000000      0.000000     0.000000            3.0       11.0   \n",
            "25%        0.000000      0.000000     0.000000            3.0       11.0   \n",
            "50%        0.000000      0.000000     0.000000            3.0       11.0   \n",
            "75%        0.000000      0.000000     0.000000            3.0       11.0   \n",
            "max        1.000000      1.000000     1.000000            3.0       11.0   \n",
            "\n",
            "          Response  Customer_Age  \n",
            "count  2237.000000   2237.000000  \n",
            "mean      0.149307     56.098346  \n",
            "std       0.356471     11.701917  \n",
            "min       0.000000     29.000000  \n",
            "25%       0.000000     48.000000  \n",
            "50%       0.000000     55.000000  \n",
            "75%       0.000000     66.000000  \n",
            "max       1.000000     85.000000  \n",
            "\n",
            "[8 rows x 27 columns]\n"
          ]
        }
      ]
    },
    {
      "cell_type": "markdown",
      "source": [
        "Exploratory Data Analysis (EDA)"
      ],
      "metadata": {
        "id": "-GXS9RXgzku_"
      }
    },
    {
      "cell_type": "code",
      "source": [
        "# CALCULATE AVERAGE INCOME & AGES\n",
        "print(\"Avg Age For the CLints \", round(df['Customer_Age'].mean(), 1))\n",
        "# CALCULATE YOUNGEST AGE\n",
        "print(\"The youngest client \", round(df['Customer_Age'].min(),1))\n",
        "#CALCULATE OLDEST AGE\n",
        "print(\"The Oldest Clint\", round(df['Customer_Age'].max(),1))\n",
        "\n",
        "\n",
        "# AVERAGE FOR Annual INCOME\n",
        "print(\"AVERAGE ANNUAL INCOME\", round(df['Income'].mean(),2))\n",
        "\n"
      ],
      "metadata": {
        "colab": {
          "base_uri": "https://localhost:8080/"
        },
        "id": "0iZo8-Tdogdj",
        "outputId": "ca06e394-54a6-460f-9e6b-e8534b54546c"
      },
      "execution_count": 16,
      "outputs": [
        {
          "output_type": "stream",
          "name": "stdout",
          "text": [
            "Avg Age For the CLints  56.1\n",
            "The youngest client  29\n",
            "The Oldest Clint 85\n",
            "AVERAGE ANNUAL INCOME 52236.58\n"
          ]
        }
      ]
    },
    {
      "cell_type": "markdown",
      "source": [
        "Create age groups to facilitate analysis"
      ],
      "metadata": {
        "id": "LIPoXHyuybMD"
      }
    },
    {
      "cell_type": "code",
      "source": [
        "bins = [18,30,40,50,60,100]\n",
        "\n",
        "labels = ['18-29', '30-39', '40-49', '50-59', '60+']\n",
        "\n",
        "df['Age_Group'] =  pd.cut(df['Customer_Age'], bins=bins, labels=labels, include_lowest=True)\n",
        "\n",
        "\n",
        "print( df['Age_Group'].value_counts())"
      ],
      "metadata": {
        "colab": {
          "base_uri": "https://localhost:8080/"
        },
        "id": "BhNSmUiaogir",
        "outputId": "c4a34895-8423-48c7-ba9f-8091479ac206"
      },
      "execution_count": 17,
      "outputs": [
        {
          "output_type": "stream",
          "name": "stdout",
          "text": [
            "Age_Group\n",
            "60+      783\n",
            "50-59    676\n",
            "40-49    557\n",
            "30-39    214\n",
            "18-29      7\n",
            "Name: count, dtype: int64\n"
          ]
        }
      ]
    },
    {
      "cell_type": "markdown",
      "source": [
        "\n",
        "Social situation analysis"
      ],
      "metadata": {
        "id": "NGE-D0Ny3W7A"
      }
    },
    {
      "cell_type": "code",
      "source": [
        "print(df['Marital_Status'].value_counts(normalize=True))"
      ],
      "metadata": {
        "colab": {
          "base_uri": "https://localhost:8080/"
        },
        "id": "ms7oQjaooglP",
        "outputId": "0ae10bc6-035d-4edc-c517-3ffff69bc3ad"
      },
      "execution_count": 18,
      "outputs": [
        {
          "output_type": "stream",
          "name": "stdout",
          "text": [
            "Marital_Status\n",
            "Married     0.386232\n",
            "Together    0.258829\n",
            "Single      0.214126\n",
            "Divorced    0.103263\n",
            "Widow       0.034421\n",
            "Alone       0.001341\n",
            "Absurd      0.000894\n",
            "YOLO        0.000894\n",
            "Name: proportion, dtype: float64\n"
          ]
        }
      ]
    },
    {
      "cell_type": "code",
      "source": [
        "purchase_cols = ['MntWines', 'MntFruits', 'MntMeatProducts', 'MntFishProducts', 'MntSweetProducts', 'MntGoldProds']\n",
        "\n",
        "df['Total_Spent'] = df[purchase_cols].sum(axis=1)\n",
        "print(df['Total_Spent'].describe())"
      ],
      "metadata": {
        "colab": {
          "base_uri": "https://localhost:8080/"
        },
        "id": "oA2EDDhWogn3",
        "outputId": "2c781db6-997d-4b79-ae22-faa7681462d8"
      },
      "execution_count": 19,
      "outputs": [
        {
          "output_type": "stream",
          "name": "stdout",
          "text": [
            "count    2237.000000\n",
            "mean      605.743406\n",
            "std       601.840466\n",
            "min         5.000000\n",
            "25%        69.000000\n",
            "50%       396.000000\n",
            "75%      1045.000000\n",
            "max      2525.000000\n",
            "Name: Total_Spent, dtype: float64\n"
          ]
        }
      ]
    },
    {
      "cell_type": "code",
      "source": [
        "Corr = df['Income'].corr(df['Total_Spent'])\n",
        "print(\"Relation between income & Total Spent==>\", round(Corr,2))"
      ],
      "metadata": {
        "colab": {
          "base_uri": "https://localhost:8080/"
        },
        "id": "ZPEzXD5IogqK",
        "outputId": "39fa8c70-5d2d-4d5b-a4b7-e55b8168d665"
      },
      "execution_count": 20,
      "outputs": [
        {
          "output_type": "stream",
          "name": "stdout",
          "text": [
            "Relation between income & Total Spent==> 0.67\n"
          ]
        }
      ]
    },
    {
      "cell_type": "code",
      "source": [
        "print(df[['Kidhome','Total_Spent','Teenhome']].groupby(['Kidhome', 'Teenhome']).mean().sort_values('Total_Spent', ascending=False))"
      ],
      "metadata": {
        "colab": {
          "base_uri": "https://localhost:8080/"
        },
        "id": "UGWNEKoMogti",
        "outputId": "6dd3691d-0cbf-4617-aec5-d1e77c64d424"
      },
      "execution_count": 21,
      "outputs": [
        {
          "output_type": "stream",
          "name": "stdout",
          "text": [
            "                  Total_Spent\n",
            "Kidhome Teenhome             \n",
            "0       0         1104.857143\n",
            "        1          704.251603\n",
            "        2          673.600000\n",
            "1       2          474.000000\n",
            "        1          215.213904\n",
            "        0          186.659363\n",
            "2       0          167.411765\n",
            "        1          133.096774\n"
          ]
        }
      ]
    },
    {
      "cell_type": "code",
      "source": [
        "campaign_cols = ['AcceptedCmp1', 'AcceptedCmp2', 'AcceptedCmp3', 'AcceptedCmp4', 'AcceptedCmp5', 'Response']\n",
        "\n",
        "df['Total_accepted_campaigns'] = df[campaign_cols].sum(axis=1)\n",
        "\n",
        "print(df['Total_accepted_campaigns'].value_counts(normalize=True)*100)"
      ],
      "metadata": {
        "colab": {
          "base_uri": "https://localhost:8080/"
        },
        "id": "cyZ0w7Jye3jg",
        "outputId": "5230636e-cdf5-432b-c4fc-fd7187307ea9"
      },
      "execution_count": 22,
      "outputs": [
        {
          "output_type": "stream",
          "name": "stdout",
          "text": [
            "Total_accepted_campaigns\n",
            "0    72.820742\n",
            "1    16.495306\n",
            "2     6.347787\n",
            "3     2.279839\n",
            "4     1.609298\n",
            "5     0.447027\n",
            "Name: proportion, dtype: float64\n"
          ]
        }
      ]
    },
    {
      "cell_type": "markdown",
      "source": [
        "INSIGHTS FROM DATA"
      ],
      "metadata": {
        "id": "fcahtT0kpSSo"
      }
    },
    {
      "cell_type": "markdown",
      "source": [
        "Customers aged 30–39 are the highest spenders.\n",
        "\n",
        "The relationship between income and spending is strongly positive (meaning that the higher-income group spends more).\n",
        "\n",
        "Married people spend significantly more than single people.\n",
        "\n",
        "Families with one child are more responsive to campaigns."
      ],
      "metadata": {
        "id": "a3WPrWdFpPl0"
      }
    },
    {
      "cell_type": "code",
      "source": [],
      "metadata": {
        "id": "ICWAotCqtcN2"
      },
      "execution_count": null,
      "outputs": []
    },
    {
      "cell_type": "code",
      "source": [
        "import matplotlib.pyplot as plt"
      ],
      "metadata": {
        "id": "7bqzIBMLtceE"
      },
      "execution_count": 23,
      "outputs": []
    },
    {
      "cell_type": "code",
      "source": [
        "plt.figure(figsize=(8,5))\n",
        "df['Customer_Age'].hist(bins=20, edgecolor='black')\n",
        "plt.title('Age Distribution of Customers')\n",
        "plt.xlabel('Age')\n",
        "plt.ylabel('Number of Customers')\n",
        "plt.show()"
      ],
      "metadata": {
        "colab": {
          "base_uri": "https://localhost:8080/",
          "height": 487
        },
        "id": "D5Nf8GUMtcou",
        "outputId": "0e791c53-1f15-4224-82ee-d9e5d30f70c8"
      },
      "execution_count": 24,
      "outputs": [
        {
          "output_type": "display_data",
          "data": {
            "text/plain": [
              "<Figure size 800x500 with 1 Axes>"
            ],
            "image/png": "[encoded data removed]"
          },
          "metadata": {}
        }
      ]
    },
    {
      "cell_type": "code",
      "source": [
        "df['Marital_Status'].value_counts().plot(kind='bar', color='skyblue', figsize=(8,5))\n",
        "plt.title('Customer Distribution by Marital Status')\n",
        "plt.xlabel('Marital Status')\n",
        "plt.ylabel('Count')\n",
        "plt.show()\n"
      ],
      "metadata": {
        "colab": {
          "base_uri": "https://localhost:8080/",
          "height": 535
        },
        "id": "OSoXqEbjtcsf",
        "outputId": "d3c30281-f888-41c6-cee8-631fc53f7895"
      },
      "execution_count": 25,
      "outputs": [
        {
          "output_type": "display_data",
          "data": {
            "text/plain": [
              "<Figure size 800x500 with 1 Axes>"
            ],
            "image/png": "[encoded data removed]"
          },
          "metadata": {}
        }
      ]
    },
    {
      "cell_type": "code",
      "source": [
        "plt.figure(figsize=(8,5))\n",
        "plt.scatter(df['Income'], df['Total_Spent'], alpha=0.5)\n",
        "plt.title('Income vs Total Spending')\n",
        "plt.xlabel('Annual Income')\n",
        "plt.ylabel('Total Spending')\n",
        "plt.show()\n"
      ],
      "metadata": {
        "colab": {
          "base_uri": "https://localhost:8080/",
          "height": 487
        },
        "id": "ARRsgXYbtcvm",
        "outputId": "d0663075-edf2-4b42-a24c-16d6fb1e7b91"
      },
      "execution_count": 26,
      "outputs": [
        {
          "output_type": "display_data",
          "data": {
            "text/plain": [
              "<Figure size 800x500 with 1 Axes>"
            ],
            "image/png": "[encoded data removed]"
          },
          "metadata": {}
        }
      ]
    },
    {
      "cell_type": "code",
      "source": [
        "df.groupby('Age_Group')['Total_Spent'].mean().plot(kind='bar', color='orange', figsize=(8,5))\n",
        "plt.title('Average Spending by Age Group')\n",
        "plt.xlabel('Age Group')\n",
        "plt.ylabel('Average Spending')\n",
        "plt.show()\n"
      ],
      "metadata": {
        "colab": {
          "base_uri": "https://localhost:8080/",
          "height": 568
        },
        "id": "SQjCMbavtdBh",
        "outputId": "d62e767a-541d-4cb0-d3c3-f09a29ff8b1d"
      },
      "execution_count": 27,
      "outputs": [
        {
          "output_type": "stream",
          "name": "stderr",
          "text": [
            "/tmp/ipython-input-1763387092.py:1: FutureWarning: The default of observed=False is deprecated and will be changed to True in a future version of pandas. Pass observed=False to retain current behavior or observed=True to adopt the future default and silence this warning.\n",
            "  df.groupby('Age_Group')['Total_Spent'].mean().plot(kind='bar', color='orange', figsize=(8,5))\n"
          ]
        },
        {
          "output_type": "display_data",
          "data": {
            "text/plain": [
              "<Figure size 800x500 with 1 Axes>"
            ],
            "image/png": "[encoded data removed]"
          },
          "metadata": {}
        }
      ]
    },
    {
      "cell_type": "code",
      "source": [],
      "metadata": {
        "id": "7ks_pgcptv7t"
      },
      "execution_count": null,
      "outputs": []
    },
    {
      "cell_type": "code",
      "metadata": {
        "colab": {
          "base_uri": "https://localhost:8080/",
          "height": 482
        },
        "id": "EWQw-9wAtv4c",
        "outputId": "886036e5-6598-4db9-85f2-663cf82c2887"
      },
      "source": [
        "df['Total_accepted_campaigns'].value_counts().sort_index().plot(kind='bar', figsize=(8,5), color='lightgreen')\n",
        "plt.title('Accepted Marketing Campaigns per Customer')\n",
        "plt.xlabel('Number of Accepted Campaigns')\n",
        "plt.ylabel('Count of Customers')\n",
        "plt.show()"
      ],
      "execution_count": 28,
      "outputs": [
        {
          "output_type": "display_data",
          "data": {
            "text/plain": [
              "<Figure size 800x500 with 1 Axes>"
            ],
            "image/png": "[encoded data removed]"
          },
          "metadata": {}
        }
      ]
    },
    {
      "cell_type": "markdown",
      "source": [
        "**Marketing Insights**"
      ],
      "metadata": {
        "id": "xNTEO9sizDfq"
      }
    },
    {
      "cell_type": "markdown",
      "source": [],
      "metadata": {
        "id": "ISc0GJYVzTAi"
      }
    },
    {
      "cell_type": "markdown",
      "source": [
        "Highest Spending Group: Customers aged 30-39.\n",
        "\n",
        "Relationship between income and spending: Strong positive correlation ← Higher-income groups spend more.\n",
        "\n",
        "Marital Status: Married people spend significantly more than singles.\n",
        "\n",
        "Campaign Response: Most customers responded to only one campaign ← Communication needs to be improved.\n",
        "\n",
        "Customers with few children are more engaged than large families."
      ],
      "metadata": {
        "id": "FXyGpk9NzNls"
      }
    },
    {
      "cell_type": "markdown",
      "source": [
        "Recency, Frequency, Monetary      (**RFM Analysis**)\n",
        "\n",
        "\n",
        "Analyze customer Behavior\n",
        "\n"
      ],
      "metadata": {
        "id": "8CuxsdSI2z9t"
      }
    },
    {
      "cell_type": "code",
      "source": [
        "# Recency: The number of days from the last time the customer joined to our most recent date.\n",
        "most_recent_date = df['Dt_Customer'].max()\n",
        "df['Recency'] = (most_recent_date - df['Dt_Customer']).dt.days\n",
        "\n",
        "# Frequency: The number of times a customer responded to marketing campaigns.\n",
        "df['Frequency'] = df['Total_accepted_campaigns']\n",
        "\n",
        "# Monetary: Total customer spending across all purchases\n",
        "\n",
        "df['Monetary'] = df['Total_Spent']\n",
        "\n",
        "print(df[['Recency', 'Frequency', 'Monetary']].head())"
      ],
      "metadata": {
        "colab": {
          "base_uri": "https://localhost:8080/"
        },
        "id": "OIz-7Flj25Mh",
        "outputId": "e56da6de-1479-4e58-938a-7856756e6aea"
      },
      "execution_count": 29,
      "outputs": [
        {
          "output_type": "stream",
          "name": "stdout",
          "text": [
            "   Recency  Frequency  Monetary\n",
            "0      663          1      1617\n",
            "1      113          0        27\n",
            "2      312          0       776\n",
            "3      139          0        53\n",
            "4      161          0       422\n"
          ]
        }
      ]
    },
    {
      "cell_type": "markdown",
      "source": [
        "\n",
        "**We divide customers into categories**\n",
        "\n",
        "according to each indicator (Quantile Scoring)"
      ],
      "metadata": {
        "id": "hyJJQGGBq9Bb"
      }
    },
    {
      "cell_type": "code",
      "source": [
        "df['R_score'] = pd.qcut(df['Recency'] , 4, labels=[4,3,2,1])\n",
        "\n",
        "df['F_score'] = pd.qcut(df['Frequency'] .rank(method = 'first'), 4, labels=[4,3,2,1])\n",
        "\n",
        "df['M_score'] = pd.qcut(df['Monetary'] , 4, labels=[4,3,2,1])\n"
      ],
      "metadata": {
        "id": "KL9B_4vN4SG0"
      },
      "execution_count": 30,
      "outputs": []
    },
    {
      "cell_type": "markdown",
      "source": [
        "combine the scores together and calculate the\n",
        "\n",
        "***RFM_Score***"
      ],
      "metadata": {
        "id": "WuEM0LdfsRsY"
      }
    },
    {
      "cell_type": "code",
      "source": [
        "df['RFM_socre'] = df['R_score'].astype(str) + df['F_score'].astype(str)+ df['M_score'].astype(str)\n",
        "\n",
        "\n",
        "df['RFM_Score_Num']= df[['F_score','M_score','R_score']].astype(int).sum(axis=1)"
      ],
      "metadata": {
        "id": "qr3dv3LU4SLR"
      },
      "execution_count": 31,
      "outputs": []
    },
    {
      "cell_type": "markdown",
      "source": [
        "**Analyze the Distribution**"
      ],
      "metadata": {
        "id": "7GeBho07y1UT"
      }
    },
    {
      "cell_type": "code",
      "source": [
        "rfm_summary = df['RFM_Score_Num'].value_counts().sort_index()\n",
        "print(rfm_summary)\n",
        "\n",
        "df['RFM_Score_Num'].hist(bins=10, figsize=(8,5), edgecolor='black')\n",
        "plt.title('Distribution of RFM Scores')\n",
        "plt.xlabel('RFM Score')\n",
        "plt.ylabel('Number of Customers')\n",
        "plt.show()"
      ],
      "metadata": {
        "colab": {
          "base_uri": "https://localhost:8080/",
          "height": 695
        },
        "id": "_xrYvavk4SWL",
        "outputId": "7d8f5eb9-142b-4ab5-8291-bc59c60369e0"
      },
      "execution_count": 34,
      "outputs": [
        {
          "output_type": "stream",
          "name": "stdout",
          "text": [
            "RFM_Score_Num\n",
            "3      88\n",
            "4     154\n",
            "5     205\n",
            "6     288\n",
            "7     358\n",
            "8     366\n",
            "9     315\n",
            "10    261\n",
            "11    138\n",
            "12     64\n",
            "Name: count, dtype: int64\n"
          ]
        },
        {
          "output_type": "display_data",
          "data": {
            "text/plain": [
              "<Figure size 800x500 with 1 Axes>"
            ],
            "image/png": "[encoded data removed]"
          },
          "metadata": {}
        }
      ]
    },
    {
      "cell_type": "code",
      "source": [
        "print(\"RFM : Average Spend Per Category\")\n",
        "\n",
        "print(df.groupby('RFM_Score_Num')['Monetary'].mean().sort_values(ascending=False ))\n",
        "\n",
        "print(\"Average Number of Accepted Campaigns Per Category\\n\")\n",
        "print(df.groupby('RFM_Score_Num')['Frequency'].mean().sort_values(ascending=False))"
      ],
      "metadata": {
        "colab": {
          "base_uri": "https://localhost:8080/"
        },
        "id": "TfT49EFpybTW",
        "outputId": "4b9f308f-4cd6-4411-af54-4c319f7c6103"
      },
      "execution_count": 36,
      "outputs": [
        {
          "output_type": "stream",
          "name": "stdout",
          "text": [
            "RFM : Average Spend Per Category\n",
            "RFM_Score_Num\n",
            "3     1594.886364\n",
            "4     1278.227273\n",
            "5     1058.473171\n",
            "6      972.406250\n",
            "7      633.217877\n",
            "8      425.978142\n",
            "9      271.114286\n",
            "10     159.881226\n",
            "11      62.101449\n",
            "12      39.234375\n",
            "Name: Monetary, dtype: float64\n",
            "Average Number of Accepted Campaigns Per Category\n",
            "\n",
            "RFM_Score_Num\n",
            "3     1.806818\n",
            "4     1.571429\n",
            "5     1.092683\n",
            "6     0.725694\n",
            "7     0.243017\n",
            "8     0.128415\n",
            "9     0.098413\n",
            "10    0.003831\n",
            "11    0.000000\n",
            "12    0.000000\n",
            "Name: Frequency, dtype: float64\n"
          ]
        }
      ]
    },
    {
      "cell_type": "markdown",
      "source": [
        "**Customer Segmentation**\n",
        "\n",
        "according to Income and spending level"
      ],
      "metadata": {
        "id": "ENLg6NA3c8Sc"
      }
    },
    {
      "cell_type": "code",
      "source": [
        "df['Income_Level']= pd.qcut(df['Income'],3, labels =['Low Income', 'Mid Income', 'High Income'] )\n",
        "\n",
        "#\n",
        "df['Spending_Level'] = pd.qcut(df['Total_Spent'],3,labels = ['Low Spender', 'Mid Spender', 'High Spender'])"
      ],
      "metadata": {
        "id": "83Ws6E9tybf1"
      },
      "execution_count": 40,
      "outputs": []
    },
    {
      "cell_type": "code",
      "source": [
        "segmentation = df.groupby(['Income_Level','Spending_Level']).size().unstack().fillna(0)\n",
        "print(segmentation)"
      ],
      "metadata": {
        "colab": {
          "base_uri": "https://localhost:8080/"
        },
        "id": "gmFpRM2k4Sce",
        "outputId": "111cba73-ce62-47be-efa3-66e9a97b2cdd"
      },
      "execution_count": 43,
      "outputs": [
        {
          "output_type": "stream",
          "name": "stdout",
          "text": [
            "Spending_Level  Low Spender  Mid Spender  High Spender\n",
            "Income_Level                                          \n",
            "Low Income              585          150             3\n",
            "Mid Income              146          464           127\n",
            "High Income               6          121           611\n"
          ]
        },
        {
          "output_type": "stream",
          "name": "stderr",
          "text": [
            "/tmp/ipython-input-3473752846.py:1: FutureWarning: The default of observed=False is deprecated and will be changed to True in a future version of pandas. Pass observed=False to retain current behavior or observed=True to adopt the future default and silence this warning.\n",
            "  segmentation = df.groupby(['Income_Level','Spending_Level']).size().unstack().fillna(0)\n"
          ]
        }
      ]
    },
    {
      "cell_type": "code",
      "source": [
        "import seaborn as sns"
      ],
      "metadata": {
        "id": "z-yf-cIgfS1G"
      },
      "execution_count": 44,
      "outputs": []
    },
    {
      "cell_type": "code",
      "source": [
        "plt.figure(figsize=(7,5))\n",
        "sns.heatmap(segmentation, annot=True, fmt=\".0f\", cmap=\"YlGnBu\")\n",
        "plt.title('Customer Segmentation by Income and Spending Level')\n",
        "plt.xlabel('Spending Level')\n",
        "plt.ylabel('Income Level')\n",
        "plt.show()"
      ],
      "metadata": {
        "colab": {
          "base_uri": "https://localhost:8080/",
          "height": 487
        },
        "id": "08xJXoWofS5p",
        "outputId": "be877951-ee0a-492d-9175-0db4eaa2e50b"
      },
      "execution_count": 45,
      "outputs": [
        {
          "output_type": "display_data",
          "data": {
            "text/plain": [
              "<Figure size 700x500 with 2 Axes>"
            ],
            "image/png": "[encoded data removed]"
          },
          "metadata": {}
        }
      ]
    },
    {
      "cell_type": "markdown",
      "source": [
        "**Insights**\n",
        "\n",
        "\n",
        "\n",
        "Customers with a high RFM (≥10) are the most valuable customers\n",
        "\n",
        "\n",
        "High-income + high-spender customers are the \"premium segment\" we need to retain\n",
        "\n",
        "\n",
        "\n",
        "Low-income + high-spender customers may be targeted for ongoing discount offers\n",
        "\n",
        "\n",
        "High-income + low-spender customers → need smart campaigns to encourage purchases"
      ],
      "metadata": {
        "id": "SJ3JN-tmf26d"
      }
    }
  ]
}